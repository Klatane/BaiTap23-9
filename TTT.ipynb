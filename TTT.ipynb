{
  "nbformat": 4,
  "nbformat_minor": 0,
  "metadata": {
    "colab": {
      "name": "Untitled32.ipynb",
      "provenance": [],
      "authorship_tag": "ABX9TyNkLqkn/jYmDk4OIItvQBRw",
      "include_colab_link": true
    },
    "kernelspec": {
      "name": "python3",
      "display_name": "Python 3"
    },
    "language_info": {
      "name": "python"
    }
  },
  "cells": [
    {
      "cell_type": "markdown",
      "metadata": {
        "id": "view-in-github",
        "colab_type": "text"
      },
      "source": [
        "<a href=\"https://colab.research.google.com/github/Klatane/BaiTap23-9/blob/master/TTT.ipynb\" target=\"_parent\"><img src=\"https://colab.research.google.com/assets/colab-badge.svg\" alt=\"Open In Colab\"/></a>"
      ]
    },
    {
      "cell_type": "code",
      "execution_count": null,
      "metadata": {
        "id": "JAKcECP392-W"
      },
      "outputs": [],
      "source": [
        "\n",
        "\n",
        "#tạo dãy số\n",
        "id <- c(1:18, 1:14)\n",
        "# group 1=urban 2=rural va can phai xac dinh group la 1 \"factor\"\n",
        "group <- c(1,1,1,1,1,1,1,1,1,1,1,1,1,1,1,1,1,1,\n",
        "           2,2,2,2,2,2,2,2,2,2,2,2,2,2)\n",
        "group <- as.factor(group)\n",
        "#nhập liệu\n",
        "age <- c(109,113,115,116,119,120,121,124,126,129,130,133,134,135,\n",
        "         137,139,141,142,\n",
        "         121,121,128,129,131,132,133,134,138,138,138,140,140,140)\n",
        "height <- c(137.6,147.8,136.8,140.7,132.7,145.4,135.0,133.0,148.5,\n",
        "            148.3,147.5,148.8,133.2,148.7,152.0,150.6,165.3,149.9,\n",
        "            139.0,140.9,134.9,149.5,148.7,131.0,142.3,139.9,142.9,\n",
        "            147.7,147.7,134.6,135.8,148.5)\n",
        "# tao data frame\n",
        "data <- data.frame(id, group, age, height)\n",
        "attach(data)\n",
        "tapply(age, group, mean)\n",
        "tapply(height, group, mean)\n",
        "\n",
        "# kiem dinh t\n",
        "t.test(age~group)"
      ]
    }
  ]
}