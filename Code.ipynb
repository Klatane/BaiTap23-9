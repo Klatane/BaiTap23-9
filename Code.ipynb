{
  "nbformat": 4,
  "nbformat_minor": 0,
  "metadata": {
    "colab": {
      "name": "Untitled4.ipynb",
      "provenance": [],
      "authorship_tag": "ABX9TyNFUfLn/XgxBuXgveDNIRPw",
      "include_colab_link": true
    },
    "kernelspec": {
      "name": "python3",
      "display_name": "Python 3"
    },
    "language_info": {
      "name": "python"
    }
  },
  "cells": [
    {
      "cell_type": "markdown",
      "metadata": {
        "id": "view-in-github",
        "colab_type": "text"
      },
      "source": [
        "<a href=\"https://colab.research.google.com/github/Klatane/BaiTap23-9/blob/master/Code.ipynb\" target=\"_parent\"><img src=\"https://colab.research.google.com/assets/colab-badge.svg\" alt=\"Open In Colab\"/></a>"
      ]
    },
    {
      "cell_type": "code",
      "execution_count": 2,
      "metadata": {
        "id": "4rnOeWdu5Rwm"
      },
      "outputs": [],
      "source": [
        "import pandas as pd"
      ]
    },
    {
      "cell_type": "code",
      "source": [
        "df = pd.read_csv('place - place.csv')\n",
        "df"
      ],
      "metadata": {
        "id": "aRvmpTy96J7i"
      },
      "execution_count": null,
      "outputs": []
    },
    {
      "cell_type": "code",
      "source": [
        "type(df[\"Place's time\"].iloc[1])"
      ],
      "metadata": {
        "id": "dqFtr7Rl6g4t"
      },
      "execution_count": null,
      "outputs": []
    },
    {
      "cell_type": "code",
      "source": [
        "A = input(\"Nhap thoi gian dinh dang h:m - h:m =\")\n",
        "\n",
        "rslt_df = df.loc[df[\"Place's time\"] == A]\n",
        "rslt_df"
      ],
      "metadata": {
        "id": "Ed57c_gs72PU"
      },
      "execution_count": null,
      "outputs": []
    }
  ]
}