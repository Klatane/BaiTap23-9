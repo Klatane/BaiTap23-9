{
  "nbformat": 4,
  "nbformat_minor": 0,
  "metadata": {
    "colab": {
      "name": "Untitled37.ipynb",
      "provenance": [],
      "collapsed_sections": [],
      "authorship_tag": "ABX9TyN3HY8mw/tQcCTxF0eYM7qd",
      "include_colab_link": true
    },
    "kernelspec": {
      "name": "python3",
      "display_name": "Python 3"
    },
    "language_info": {
      "name": "python"
    }
  },
  "cells": [
    {
      "cell_type": "markdown",
      "metadata": {
        "id": "view-in-github",
        "colab_type": "text"
      },
      "source": [
        "<a href=\"https://colab.research.google.com/github/Klatane/BaiTap23-9/blob/master/Untitled37.ipynb\" target=\"_parent\"><img src=\"https://colab.research.google.com/assets/colab-badge.svg\" alt=\"Open In Colab\"/></a>"
      ]
    },
    {
      "cell_type": "code",
      "source": [
        "from matplotlib import rc\n",
        "rc('font',**{'family':'sans-serif','sans-serif':['Helvetica']})\n",
        "## for Palatino and other serif fonts use:\n",
        "#rc('font',**{'family':'serif','serif':['Palatino']})\n",
        "rc('text', usetex=True)"
      ],
      "metadata": {
        "id": "FIojIQofdGxF"
      },
      "execution_count": 3,
      "outputs": []
    },
    {
      "cell_type": "code",
      "source": [
        "# To support both python 2 and python 3\n",
        "from __future__ import division, print_function, unicode_literals\n",
        "# list of points \n",
        "import numpy as np \n",
        "import matplotlib.pyplot as plt\n",
        "from scipy.spatial.distance import cdist\n",
        "from matplotlib.backends.backend_pdf import PdfPages\n",
        "np.random.seed(22)\n",
        "\n",
        "means = [[2, 2], [4, 2]]\n",
        "cov = [[.7, 0], [0, .7]]\n",
        "N = 20\n",
        "X0 = np.random.multivariate_normal(means[0], cov, N) # each row is a data point \n",
        "X1 = np.random.multivariate_normal(means[1], cov, N)"
      ],
      "metadata": {
        "id": "bxtcrvGsdGxx"
      },
      "execution_count": 2,
      "outputs": []
    },
    {
      "cell_type": "code",
      "source": [
        "X = np.vstack((X0, X1))\n",
        "y = np.vstack((np.ones((N,1 )), -np.ones((N,1 )))).reshape((2*N,))"
      ],
      "metadata": {
        "id": "5jvBf6TjdLhG"
      },
      "execution_count": 4,
      "outputs": []
    },
    {
      "cell_type": "code",
      "source": [
        "from sklearn.svm import SVC\n",
        "C = 100\n",
        "clf = SVC(kernel = 'linear', C = C)\n",
        "clf.fit(X, y) \n",
        "\n",
        "w_sklearn = clf.coef_.reshape(-1, 1)\n",
        "b_sklearn = clf.intercept_[0]\n",
        "print(w_sklearn.T, b_sklearn)"
      ],
      "metadata": {
        "colab": {
          "base_uri": "https://localhost:8080/"
        },
        "id": "QklnskWCdPgH",
        "outputId": "8fa0d5df-c2b7-4806-d505-6cd4b2ff5f52"
      },
      "execution_count": 5,
      "outputs": [
        {
          "output_type": "stream",
          "name": "stdout",
          "text": [
            "[[-1.87461946 -1.80697358]] 8.496911901960104\n"
          ]
        }
      ]
    },
    {
      "cell_type": "code",
      "source": [
        "from cvxopt import matrix, solvers\n",
        "# build K\n",
        "V = np.concatenate((X0.T, -X1.T), axis = 1)\n",
        "K = matrix(V.T.dot(V))\n",
        "\n",
        "p = matrix(-np.ones((2*N, 1)))\n",
        "# build A, b, G, h \n",
        "G = matrix(np.vstack((-np.eye(2*N), np.eye(2*N))))\n",
        "\n",
        "h = matrix(np.vstack((np.zeros((2*N, 1)), C*np.ones((2*N, 1)))))\n",
        "A = matrix(y.reshape((-1, 2*N))) \n",
        "b = matrix(np.zeros((1, 1))) \n",
        "solvers.options['show_progress'] = False\n",
        "sol = solvers.qp(K, p, G, h, A, b)\n",
        "\n",
        "l = np.array(sol['x'])\n",
        "print('lambda = \\n', l.T)"
      ],
      "metadata": {
        "colab": {
          "base_uri": "https://localhost:8080/"
        },
        "id": "Usu8l0ymdknH",
        "outputId": "5c2c5a39-1ff5-4a05-f0ff-fa46ef59d63b"
      },
      "execution_count": 6,
      "outputs": [
        {
          "output_type": "stream",
          "name": "stdout",
          "text": [
            "lambda = \n",
            " [[1.11381472e-06 9.99999967e+01 1.10533113e-06 6.70163541e-06\n",
            "  3.40838760e+01 4.73972851e-06 9.99999978e+01 3.13320447e-06\n",
            "  9.99999985e+01 5.06729333e+01 9.99999929e+01 3.23564235e-06\n",
            "  9.99999984e+01 9.99999948e+01 1.37977626e-06 9.99997155e+01\n",
            "  3.45005661e-06 1.46190314e-06 5.50601998e-06 1.45062544e-06\n",
            "  1.85373848e-06 1.14181647e-06 8.47565685e+01 9.99999966e+01\n",
            "  9.99999971e+01 8.00764710e-07 2.65537194e-06 1.45230729e-06\n",
            "  4.15737085e-06 9.99999887e+01 9.99999761e+01 8.98414772e-07\n",
            "  9.99999979e+01 1.75651608e-06 8.27947898e-07 1.04289117e-06\n",
            "  9.99999969e+01 9.07920761e-07 8.83138297e-07 9.99999971e+01]]\n"
          ]
        }
      ]
    },
    {
      "cell_type": "code",
      "source": [
        "S = np.where(l > 1e-5)[0] # support set \n",
        "S2 = np.where(l < .999*C)[0] \n",
        "\n",
        "M = [val for val in S if val in S2] # intersection of two lists\n",
        "\n",
        "XT = X.T # we need each column to be one data point in this alg\n",
        "VS = V[:, S]\n",
        "lS = l[S]\n",
        "yM = y[M]\n",
        "XM = XT[:, M]\n",
        "\n",
        "w_dual = VS.dot(lS).reshape(-1, 1)\n",
        "b_dual = np.mean(yM.T - w_dual.T.dot(XM))\n",
        "print(w_dual.T, b_dual) "
      ],
      "metadata": {
        "colab": {
          "base_uri": "https://localhost:8080/"
        },
        "id": "Q8xwfmbZdmC1",
        "outputId": "71ec50a6-46d7-48b8-ef27-5b520e906d96"
      },
      "execution_count": 7,
      "outputs": [
        {
          "output_type": "stream",
          "name": "stdout",
          "text": [
            "[[-1.87457279 -1.80695039]] 8.496721098139153\n"
          ]
        }
      ]
    },
    {
      "cell_type": "code",
      "source": [
        "X0_bar = np.vstack((X0.T, np.ones((1, N)))) # extended data\n",
        "X1_bar = np.vstack((X1.T, np.ones((1, N)))) # extended data \n",
        "\n",
        "Z = np.hstack((X0_bar, - X1_bar)) # as in (22)\n",
        "lam = 1./C\n",
        "\n",
        "def cost(w):\n",
        "    u = w.T.dot(Z) # as in (23)\n",
        "    return (np.sum(np.maximum(0, 1 - u)) + \\\n",
        "            .5*lam*np.sum(w*w)) - .5*lam*w[-1]*w[-1]\n",
        "\n",
        "def grad(w):\n",
        "    u = w.T.dot(Z) # as in (23)\n",
        "    H = np.where(u < 1)[1]\n",
        "    ZS = Z[:, H]\n",
        "    g = (-np.sum(ZS, axis = 1, keepdims = True) + lam*w)\n",
        "    g[-1] -= lam*w[-1]\n",
        "    return g\n",
        "\n",
        "eps = 1e-6\n",
        "def num_grad(w):\n",
        "    g = np.zeros_like(w)\n",
        "    for i in range(len(w)):\n",
        "        wp = w.copy()\n",
        "        wm = w.copy()\n",
        "        wp[i] += eps \n",
        "        wm[i] -= eps \n",
        "        g[i] = (cost(wp) - cost(wm))/(2*eps)\n",
        "    return g \n",
        "\n",
        "w0 = np.random.randn(X0_bar.shape[0], 1) \n",
        "g1 = grad(w0)\n",
        "g2 = num_grad(w0)\n",
        "diff = np.linalg.norm(g1 - g2)\n",
        "print('Gradient difference: %f' %diff)"
      ],
      "metadata": {
        "colab": {
          "base_uri": "https://localhost:8080/"
        },
        "id": "FiO0gmatdrXH",
        "outputId": "51713aa5-edad-4093-943d-e4c8222ea392"
      },
      "execution_count": 8,
      "outputs": [
        {
          "output_type": "stream",
          "name": "stdout",
          "text": [
            "Gradient difference: 0.000000\n"
          ]
        }
      ]
    },
    {
      "cell_type": "code",
      "source": [
        "def grad_descent(w0, eta):\n",
        "    w = w0\n",
        "    it = 0 \n",
        "    while it < 100000:\n",
        "        it = it + 1\n",
        "        g = grad(w)\n",
        "        w -= eta*g\n",
        "        if (it % 10000) == 1:\n",
        "            print('iter %d' %it + ' cost: %f' %cost(w))\n",
        "        if np.linalg.norm(g) < 1e-5:\n",
        "            break \n",
        "    return w \n",
        "w0 = np.random.randn(X0_bar.shape[0], 1) \n",
        "w = grad_descent(w0, 0.001)\n",
        "w_hinge = w[:-1].reshape(-1, 1)\n",
        "b_hinge = w[-1]\n",
        "print(w_hinge.T, b_hinge)"
      ],
      "metadata": {
        "colab": {
          "base_uri": "https://localhost:8080/"
        },
        "id": "0Ztf2t3velAz",
        "outputId": "21999341-4bae-4a12-d451-a7d022b102a8"
      },
      "execution_count": 9,
      "outputs": [
        {
          "output_type": "stream",
          "name": "stdout",
          "text": [
            "iter 1 cost: 62.790027\n",
            "iter 10001 cost: 15.755286\n",
            "iter 20001 cost: 15.744316\n",
            "iter 30001 cost: 15.724746\n",
            "iter 40001 cost: 15.710856\n",
            "iter 50001 cost: 15.694064\n",
            "iter 60001 cost: 15.681147\n",
            "iter 70001 cost: 15.673648\n",
            "iter 80001 cost: 15.664280\n",
            "iter 90001 cost: 15.664696\n",
            "[[-1.86263592 -1.79456742]] [8.44935171]\n"
          ]
        }
      ]
    }
  ]
}